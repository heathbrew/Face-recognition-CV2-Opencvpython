{
 "cells": [
  {
   "cell_type": "code",
   "execution_count": null,
   "id": "1ed8e69a",
   "metadata": {},
   "outputs": [],
   "source": [
    "import numpy\n",
    "import cv2\n",
    "import face_recognition"
   ]
  },
  {
   "cell_type": "markdown",
   "id": "b92d7941",
   "metadata": {},
   "source": [
    "Loading image of Elon Musk to Train"
   ]
  },
  {
   "cell_type": "code",
   "execution_count": null,
   "id": "05c868d1",
   "metadata": {},
   "outputs": [],
   "source": [
    "imgElon = face_recognition.load_image_file('Elon Musk main.jpg')"
   ]
  },
  {
   "cell_type": "markdown",
   "id": "73861ef0",
   "metadata": {},
   "source": [
    "We load images as BGR but the liabraries are understanding it as RGB"
   ]
  },
  {
   "cell_type": "code",
   "execution_count": null,
   "id": "67fcd888",
   "metadata": {},
   "outputs": [],
   "source": [
    "imgElon = cv2.cvtColor(imgElon,cv2.COLOR_BGR2RGB)"
   ]
  },
  {
   "cell_type": "code",
   "execution_count": null,
   "id": "74860e7e",
   "metadata": {},
   "outputs": [],
   "source": [
    "#cv2.startWindowThread()\n",
    "#cv2.imshow('Elon Musk main',imgElon)\n",
    "#cv2.waitKey(0)"
   ]
  },
  {
   "cell_type": "markdown",
   "id": "ac99904c",
   "metadata": {},
   "source": [
    "Do the same for the test image"
   ]
  },
  {
   "cell_type": "code",
   "execution_count": null,
   "id": "169a6a68",
   "metadata": {},
   "outputs": [],
   "source": [
    "cv2.startWindowThread()\n",
    "imgElontest = face_recognition.load_image_file('Elon Musk test.jpg')\n",
    "imgElontest = cv2.cvtColor(imgElontest,cv2.COLOR_BGR2RGB)"
   ]
  },
  {
   "cell_type": "code",
   "execution_count": null,
   "id": "53d352e8",
   "metadata": {},
   "outputs": [],
   "source": [
    "# cv2.startWindowThread()\n",
    "# cv2.imshow('Elon Musk main',imgElon)\n",
    "# cv2.imshow('Elon Musk test',imgElontest)\n",
    "# cv2.waitKey(0)"
   ]
  },
  {
   "cell_type": "markdown",
   "id": "ab22216b",
   "metadata": {},
   "source": [
    "face recognition"
   ]
  },
  {
   "cell_type": "markdown",
   "id": "ef2d95b0",
   "metadata": {},
   "source": [
    "we will now find the faces in our images and also their encodinging\n",
    "\n",
    "What is encoding ?\n",
    "\n",
    "https://medium.com/@ageitgey/machine-learning-is-fun-part-4-modern-face-recognition-with-deep-learning-c3cffc121d78\n",
    "\n",
    "https://www.youtube.com/watch?v=sz25xxF_AVE&t=341s"
   ]
  },
  {
   "cell_type": "markdown",
   "id": "a90ee3b9",
   "metadata": {},
   "source": [
    "first detect the face\n"
   ]
  },
  {
   "cell_type": "code",
   "execution_count": null,
   "id": "2f358dbc",
   "metadata": {},
   "outputs": [],
   "source": [
    "faceLoc = face_recognition.face_locations(imgElon)[0]\n",
    "print(faceLoc)\n",
    "#(348, 810, 811, 348)\n",
    "#(top,right,bottom,left)\n",
    "cv2.rectangle(imgElon,(faceLoc[3],faceLoc[0]),(faceLoc[1],faceLoc[2]),(255,0,255),2)\n",
    "# cv2.imshow('Elon Musk main',imgElon)\n",
    "# cv2.waitKey(0)"
   ]
  },
  {
   "cell_type": "markdown",
   "id": "90ba0a5d",
   "metadata": {},
   "source": [
    "Encode face\n"
   ]
  },
  {
   "cell_type": "code",
   "execution_count": null,
   "id": "15e375b4",
   "metadata": {},
   "outputs": [],
   "source": [
    "encodeElon = face_recognition.face_encodings(imgElon)[0] "
   ]
  },
  {
   "cell_type": "markdown",
   "id": "93456473",
   "metadata": {},
   "source": [
    "Do the same for the test image"
   ]
  },
  {
   "cell_type": "code",
   "execution_count": null,
   "id": "6568e00a",
   "metadata": {},
   "outputs": [],
   "source": [
    "faceLoctest = face_recognition.face_locations(imgElontest)[0]\n",
    "encodeElon = face_recognition.face_encodings(imgElontest)[0] \n",
    "cv2.rectangle(imgElontest,(faceLoctest[3],faceLoctest[0]),(faceLoctest[1],faceLoctest[2]),(255,0,255),2)"
   ]
  },
  {
   "cell_type": "markdown",
   "id": "79dd04ff",
   "metadata": {},
   "source": [
    "Run to see the results"
   ]
  },
  {
   "cell_type": "code",
   "execution_count": null,
   "id": "b8134ede",
   "metadata": {},
   "outputs": [],
   "source": [
    "# cv2.imshow('Elon Musk main',imgElon)\n",
    "# cv2.imshow('Elon Musk test',imgElontest)\n",
    "# cv2.waitKey(0)"
   ]
  },
  {
   "cell_type": "markdown",
   "id": "3bd5ce0a",
   "metadata": {},
   "source": [
    "Now we compare the encodingings,\n",
    "these are 128 measurments of both the faces."
   ]
  },
  {
   "cell_type": "code",
   "execution_count": null,
   "id": "a71a5ac0",
   "metadata": {},
   "outputs": [],
   "source": [
    "results = face_recognition.compare_faces([encodeElon],encodeElontest)\n",
    "print(results)"
   ]
  },
  {
   "cell_type": "markdown",
   "id": "a9f3f261",
   "metadata": {},
   "source": [
    "Try running by changing the test image to bill gates"
   ]
  },
  {
   "cell_type": "markdown",
   "id": "b3bb4d67",
   "metadata": {},
   "source": [
    "But some times there are a lot of images so you want o find the best match"
   ]
  },
  {
   "cell_type": "code",
   "execution_count": null,
   "id": "866b9ed5",
   "metadata": {},
   "outputs": [],
   "source": [
    "faceDis = face_recognition.face_distance([encodeElon],encodeElontest)\n",
    "print(faceDis)\n",
    "cv2.putText (imgElontest,f'{results}{round(faceDis[0],2)}',(50,50),cv2.FONT_HERSHEY_COMPLEX,1 ,(0,0,255),2)\n",
    "cv2.imshow('Elon Musk test',imgElontest)\n",
    "cv2.waitKey(0)"
   ]
  }
 ],
 "metadata": {
  "kernelspec": {
   "display_name": "Python 3 (ipykernel)",
   "language": "python",
   "name": "python3"
  },
  "language_info": {
   "codemirror_mode": {
    "name": "ipython",
    "version": 3
   },
   "file_extension": ".py",
   "mimetype": "text/x-python",
   "name": "python",
   "nbconvert_exporter": "python",
   "pygments_lexer": "ipython3",
   "version": "3.9.0"
  }
 },
 "nbformat": 4,
 "nbformat_minor": 5
}
